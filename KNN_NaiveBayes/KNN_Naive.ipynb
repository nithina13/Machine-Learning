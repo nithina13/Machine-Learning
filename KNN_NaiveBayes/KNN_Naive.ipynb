{
 "cells": [
  {
   "cell_type": "markdown",
   "metadata": {},
   "source": [
    "# KNN and Naive Bayes"
   ]
  },
  {
   "cell_type": "markdown",
   "metadata": {},
   "source": [
    "## Section 1 - kNN "
   ]
  },
  {
   "cell_type": "code",
   "execution_count": 59,
   "metadata": {},
   "outputs": [],
   "source": [
    "# These are the libraries you will use for this assignment, you may not import anything else\n",
    "import pandas as pd\n",
    "import numpy as np\n",
    "import matplotlib.pyplot as plt\n",
    "import time\n",
    "import calendar\n",
    "from tqdm import tqdm\n",
    "%matplotlib inline\n",
    "\n",
    "# Starting off loading a training set\n",
    "df_melb = pd.read_csv('melb_data_train.csv')"
   ]
  },
  {
   "cell_type": "markdown",
   "metadata": {},
   "source": [
    "## Q1.1 - Fix a column of data to be numeric\n",
    "If we inspect our dataframe, `df_melb` using the `dtypes` method, we see that the column \"Date\" is an object.  However, we think this column might contain useful information so we want to convert it to [seconds since epoch](https://en.wikipedia.org/wiki/Unix_time). Use only the existing imported libraries to create a new column \"unixtime\". Be careful, the date strings in the file have some non-uniform formatting that you have to fix first.  Print out the min and max epoch time to check your work.  Drop the original \"Date\" column. The [documentation](https://docs.python.org/3/library/time.html) for the Python 3 time will be really useful. "
   ]
  },
  {
   "cell_type": "code",
   "execution_count": 60,
   "metadata": {},
   "outputs": [
    {
     "name": "stdout",
     "output_type": "stream",
     "text": [
      "Min: 1457481600\n",
      "Max: 1512691200\n"
     ]
    }
   ],
   "source": [
    "def epoch (df_melb):\n",
    "    df_melb['temp'] = pd.to_datetime(df_melb['Date'])\n",
    "    df_melb['unixtime'] = (df_melb['temp'] - pd.Timestamp(\"1970-01-01\")) // pd.Timedelta('1s')\n",
    "    df_melb.drop(columns = ['Date', 'temp'], inplace = True)\n",
    "    print(\"Min: \" + str(df_melb['unixtime'].min()))\n",
    "    print(\"Max: \" + str(df_melb['unixtime'].max()))\n",
    "    return df_melb\n",
    "\n",
    "df_melb = epoch(df_melb)"
   ]
  },
  {
   "cell_type": "markdown",
   "metadata": {},
   "source": [
    "## Q1.2 Use Imputation to fill in missing values\n",
    "kNN doesn't work when all of the attributes are not valid for all of the attribute columns, so fill in all the missing values in `df_melb` with the mean of that column.  Save the mean of each column in a dictionary, `dict_imputation`, whose key is the column name, so we can apply the same imputation to the test set later. Show your `dict_imputation` dictionary and the head of your `df_melb` dataframe"
   ]
  },
  {
   "cell_type": "code",
   "execution_count": 61,
   "metadata": {},
   "outputs": [],
   "source": [
    "def imputation(df_melb):\n",
    "    #cars, building area, yearbuilt contain missing values.\n",
    "    dict_imputation = {'Car': df_melb['Car'].mean(skipna = True), \n",
    "                       'BuildingArea' : df_melb['BuildingArea'].mean(skipna = True),\n",
    "                    'YearBuilt' : df_melb['YearBuilt'].mean(skipna = True)}\n",
    "\n",
    "    df_melb['Car'].fillna(dict_imputation['Car'], inplace = True)\n",
    "    df_melb['BuildingArea'].fillna(dict_imputation['BuildingArea'], inplace = True)\n",
    "    df_melb['YearBuilt'].fillna(dict_imputation['YearBuilt'], inplace = True)\n",
    "    return dict_imputation, df_melb"
   ]
  },
  {
   "cell_type": "code",
   "execution_count": 62,
   "metadata": {},
   "outputs": [
    {
     "data": {
      "text/plain": [
       "{'Car': 1.4938398357289528,\n",
       " 'BuildingArea': 131.379476861167,\n",
       " 'YearBuilt': 1971.0204429301534}"
      ]
     },
     "execution_count": 62,
     "metadata": {},
     "output_type": "execute_result"
    }
   ],
   "source": [
    "# Print out dict_imputation\n",
    "dict_imputation, df_melb = imputation(df_melb)\n",
    "dict_imputation"
   ]
  },
  {
   "cell_type": "markdown",
   "metadata": {},
   "source": [
    "## Q1.3 Normalize all the attributes to be between [0,1]\n",
    "Normalize all the attribute columns in `df_melb` so they have a value between zero and one (inclusive). Save the (min,max) tuple used to normalize to a dictionary, `dict_normalize`, so we can apply it to the test set later.  The dataframe `df_melb` is now your \"model\" that you can use to classify new data points."
   ]
  },
  {
   "cell_type": "code",
   "execution_count": 63,
   "metadata": {},
   "outputs": [],
   "source": [
    "types = df_melb['Type'].copy()\n",
    "df_melb.drop(columns = ['Type'], inplace = True)"
   ]
  },
  {
   "cell_type": "code",
   "execution_count": 64,
   "metadata": {},
   "outputs": [],
   "source": [
    "# method to normalize, optionally using a dict.\n",
    "def normalize(df_melb, useDict = None):\n",
    "    dict_normalize = {}\n",
    "    for (colN, col) in df_melb.iteritems():  \n",
    "        if useDict == None:\n",
    "            dict_normalize[colN] = (col.min(), col.max())\n",
    "            df_melb[colN] = (df_melb[colN] -  dict_normalize[colN][0])/(dict_normalize[colN][1] - dict_normalize[colN][0])\n",
    "        else:\n",
    "            df_melb[colN] = (df_melb[colN] -  useDict[colN][0])/(useDict[colN][1] - useDict[colN][0])\n",
    "    return dict_normalize, df_melb"
   ]
  },
  {
   "cell_type": "code",
   "execution_count": 65,
   "metadata": {},
   "outputs": [
    {
     "data": {
      "text/plain": [
       "{'Rooms': (1, 7),\n",
       " 'Price': (210000, 5020000),\n",
       " 'Distance': (0.7, 47.3),\n",
       " 'Postcode': (3000, 3810),\n",
       " 'Bathroom': (0, 5),\n",
       " 'Car': (0.0, 8.0),\n",
       " 'Landsize': (0, 41400),\n",
       " 'BuildingArea': (0.0, 3558.0),\n",
       " 'YearBuilt': (1850.0, 2016.0),\n",
       " 'unixtime': (1457481600, 1512691200)}"
      ]
     },
     "execution_count": 65,
     "metadata": {},
     "output_type": "execute_result"
    }
   ],
   "source": [
    "# print out dict_normalize\n",
    "dict_normalize, df_melb = normalize(df_melb, None)\n",
    "dict_normalize"
   ]
  },
  {
   "cell_type": "markdown",
   "metadata": {},
   "source": [
    "## Q1.4 Load in the Test data and prep it for classification\n",
    "Everything we did to our \"train\" set, we need to now do in our \"test\" set. "
   ]
  },
  {
   "cell_type": "code",
   "execution_count": 66,
   "metadata": {},
   "outputs": [],
   "source": [
    "df_test = pd.read_csv(\"melb_data_test.csv\")"
   ]
  },
  {
   "cell_type": "code",
   "execution_count": 67,
   "metadata": {},
   "outputs": [
    {
     "name": "stdout",
     "output_type": "stream",
     "text": [
      "Min: 1457481600\n",
      "Max: 1512691200\n"
     ]
    },
    {
     "data": {
      "text/html": [
       "<div>\n",
       "<style scoped>\n",
       "    .dataframe tbody tr th:only-of-type {\n",
       "        vertical-align: middle;\n",
       "    }\n",
       "\n",
       "    .dataframe tbody tr th {\n",
       "        vertical-align: top;\n",
       "    }\n",
       "\n",
       "    .dataframe thead th {\n",
       "        text-align: right;\n",
       "    }\n",
       "</style>\n",
       "<table border=\"1\" class=\"dataframe\">\n",
       "  <thead>\n",
       "    <tr style=\"text-align: right;\">\n",
       "      <th></th>\n",
       "      <th>Rooms</th>\n",
       "      <th>Type</th>\n",
       "      <th>Price</th>\n",
       "      <th>Distance</th>\n",
       "      <th>Postcode</th>\n",
       "      <th>Bathroom</th>\n",
       "      <th>Car</th>\n",
       "      <th>Landsize</th>\n",
       "      <th>BuildingArea</th>\n",
       "      <th>YearBuilt</th>\n",
       "      <th>unixtime</th>\n",
       "    </tr>\n",
       "  </thead>\n",
       "  <tbody>\n",
       "    <tr>\n",
       "      <th>0</th>\n",
       "      <td>2</td>\n",
       "      <td>t</td>\n",
       "      <td>790000</td>\n",
       "      <td>11.2</td>\n",
       "      <td>3046</td>\n",
       "      <td>2</td>\n",
       "      <td>1.0</td>\n",
       "      <td>208</td>\n",
       "      <td>127.0</td>\n",
       "      <td>2010.0</td>\n",
       "      <td>1497657600</td>\n",
       "    </tr>\n",
       "    <tr>\n",
       "      <th>1</th>\n",
       "      <td>3</td>\n",
       "      <td>h</td>\n",
       "      <td>1355000</td>\n",
       "      <td>8.8</td>\n",
       "      <td>3072</td>\n",
       "      <td>1</td>\n",
       "      <td>2.0</td>\n",
       "      <td>916</td>\n",
       "      <td>NaN</td>\n",
       "      <td>NaN</td>\n",
       "      <td>1476489600</td>\n",
       "    </tr>\n",
       "    <tr>\n",
       "      <th>2</th>\n",
       "      <td>5</td>\n",
       "      <td>h</td>\n",
       "      <td>2810000</td>\n",
       "      <td>6.3</td>\n",
       "      <td>3143</td>\n",
       "      <td>2</td>\n",
       "      <td>2.0</td>\n",
       "      <td>617</td>\n",
       "      <td>NaN</td>\n",
       "      <td>NaN</td>\n",
       "      <td>1472342400</td>\n",
       "    </tr>\n",
       "    <tr>\n",
       "      <th>3</th>\n",
       "      <td>3</td>\n",
       "      <td>h</td>\n",
       "      <td>850000</td>\n",
       "      <td>10.5</td>\n",
       "      <td>3034</td>\n",
       "      <td>1</td>\n",
       "      <td>1.0</td>\n",
       "      <td>593</td>\n",
       "      <td>118.0</td>\n",
       "      <td>1970.0</td>\n",
       "      <td>1457481600</td>\n",
       "    </tr>\n",
       "    <tr>\n",
       "      <th>4</th>\n",
       "      <td>3</td>\n",
       "      <td>h</td>\n",
       "      <td>810000</td>\n",
       "      <td>38.0</td>\n",
       "      <td>3199</td>\n",
       "      <td>1</td>\n",
       "      <td>2.0</td>\n",
       "      <td>835</td>\n",
       "      <td>118.0</td>\n",
       "      <td>1960.0</td>\n",
       "      <td>1502064000</td>\n",
       "    </tr>\n",
       "    <tr>\n",
       "      <th>5</th>\n",
       "      <td>3</td>\n",
       "      <td>t</td>\n",
       "      <td>1015000</td>\n",
       "      <td>3.5</td>\n",
       "      <td>3068</td>\n",
       "      <td>2</td>\n",
       "      <td>1.0</td>\n",
       "      <td>112</td>\n",
       "      <td>145.0</td>\n",
       "      <td>2000.0</td>\n",
       "      <td>1470787200</td>\n",
       "    </tr>\n",
       "    <tr>\n",
       "      <th>6</th>\n",
       "      <td>3</td>\n",
       "      <td>t</td>\n",
       "      <td>881000</td>\n",
       "      <td>13.4</td>\n",
       "      <td>3130</td>\n",
       "      <td>1</td>\n",
       "      <td>1.0</td>\n",
       "      <td>300</td>\n",
       "      <td>NaN</td>\n",
       "      <td>NaN</td>\n",
       "      <td>1503100800</td>\n",
       "    </tr>\n",
       "    <tr>\n",
       "      <th>7</th>\n",
       "      <td>4</td>\n",
       "      <td>h</td>\n",
       "      <td>1975000</td>\n",
       "      <td>6.4</td>\n",
       "      <td>3078</td>\n",
       "      <td>2</td>\n",
       "      <td>2.0</td>\n",
       "      <td>600</td>\n",
       "      <td>NaN</td>\n",
       "      <td>NaN</td>\n",
       "      <td>1495238400</td>\n",
       "    </tr>\n",
       "    <tr>\n",
       "      <th>8</th>\n",
       "      <td>2</td>\n",
       "      <td>h</td>\n",
       "      <td>417000</td>\n",
       "      <td>13.0</td>\n",
       "      <td>3046</td>\n",
       "      <td>1</td>\n",
       "      <td>1.0</td>\n",
       "      <td>172</td>\n",
       "      <td>77.0</td>\n",
       "      <td>2013.0</td>\n",
       "      <td>1480204800</td>\n",
       "    </tr>\n",
       "    <tr>\n",
       "      <th>9</th>\n",
       "      <td>3</td>\n",
       "      <td>h</td>\n",
       "      <td>705000</td>\n",
       "      <td>15.5</td>\n",
       "      <td>3038</td>\n",
       "      <td>2</td>\n",
       "      <td>1.0</td>\n",
       "      <td>677</td>\n",
       "      <td>138.0</td>\n",
       "      <td>1980.0</td>\n",
       "      <td>1489017600</td>\n",
       "    </tr>\n",
       "  </tbody>\n",
       "</table>\n",
       "</div>"
      ],
      "text/plain": [
       "   Rooms Type    Price  Distance  Postcode  Bathroom  Car  Landsize  \\\n",
       "0      2    t   790000      11.2      3046         2  1.0       208   \n",
       "1      3    h  1355000       8.8      3072         1  2.0       916   \n",
       "2      5    h  2810000       6.3      3143         2  2.0       617   \n",
       "3      3    h   850000      10.5      3034         1  1.0       593   \n",
       "4      3    h   810000      38.0      3199         1  2.0       835   \n",
       "5      3    t  1015000       3.5      3068         2  1.0       112   \n",
       "6      3    t   881000      13.4      3130         1  1.0       300   \n",
       "7      4    h  1975000       6.4      3078         2  2.0       600   \n",
       "8      2    h   417000      13.0      3046         1  1.0       172   \n",
       "9      3    h   705000      15.5      3038         2  1.0       677   \n",
       "\n",
       "   BuildingArea  YearBuilt    unixtime  \n",
       "0         127.0     2010.0  1497657600  \n",
       "1           NaN        NaN  1476489600  \n",
       "2           NaN        NaN  1472342400  \n",
       "3         118.0     1970.0  1457481600  \n",
       "4         118.0     1960.0  1502064000  \n",
       "5         145.0     2000.0  1470787200  \n",
       "6           NaN        NaN  1503100800  \n",
       "7           NaN        NaN  1495238400  \n",
       "8          77.0     2013.0  1480204800  \n",
       "9         138.0     1980.0  1489017600  "
      ]
     },
     "execution_count": 67,
     "metadata": {},
     "output_type": "execute_result"
    }
   ],
   "source": [
    "# Add unixtime and column remove 'Date' string column\n",
    "df_test = epoch(df_test)\n",
    "df_test.head(10)"
   ]
  },
  {
   "cell_type": "code",
   "execution_count": 68,
   "metadata": {},
   "outputs": [
    {
     "data": {
      "text/html": [
       "<div>\n",
       "<style scoped>\n",
       "    .dataframe tbody tr th:only-of-type {\n",
       "        vertical-align: middle;\n",
       "    }\n",
       "\n",
       "    .dataframe tbody tr th {\n",
       "        vertical-align: top;\n",
       "    }\n",
       "\n",
       "    .dataframe thead th {\n",
       "        text-align: right;\n",
       "    }\n",
       "</style>\n",
       "<table border=\"1\" class=\"dataframe\">\n",
       "  <thead>\n",
       "    <tr style=\"text-align: right;\">\n",
       "      <th></th>\n",
       "      <th>Rooms</th>\n",
       "      <th>Type</th>\n",
       "      <th>Price</th>\n",
       "      <th>Distance</th>\n",
       "      <th>Postcode</th>\n",
       "      <th>Bathroom</th>\n",
       "      <th>Car</th>\n",
       "      <th>Landsize</th>\n",
       "      <th>BuildingArea</th>\n",
       "      <th>YearBuilt</th>\n",
       "      <th>unixtime</th>\n",
       "    </tr>\n",
       "  </thead>\n",
       "  <tbody>\n",
       "    <tr>\n",
       "      <th>0</th>\n",
       "      <td>2</td>\n",
       "      <td>t</td>\n",
       "      <td>790000</td>\n",
       "      <td>11.2</td>\n",
       "      <td>3046</td>\n",
       "      <td>2</td>\n",
       "      <td>1.0</td>\n",
       "      <td>208</td>\n",
       "      <td>127.000000</td>\n",
       "      <td>2010.000000</td>\n",
       "      <td>1497657600</td>\n",
       "    </tr>\n",
       "    <tr>\n",
       "      <th>1</th>\n",
       "      <td>3</td>\n",
       "      <td>h</td>\n",
       "      <td>1355000</td>\n",
       "      <td>8.8</td>\n",
       "      <td>3072</td>\n",
       "      <td>1</td>\n",
       "      <td>2.0</td>\n",
       "      <td>916</td>\n",
       "      <td>131.379477</td>\n",
       "      <td>1971.020443</td>\n",
       "      <td>1476489600</td>\n",
       "    </tr>\n",
       "    <tr>\n",
       "      <th>2</th>\n",
       "      <td>5</td>\n",
       "      <td>h</td>\n",
       "      <td>2810000</td>\n",
       "      <td>6.3</td>\n",
       "      <td>3143</td>\n",
       "      <td>2</td>\n",
       "      <td>2.0</td>\n",
       "      <td>617</td>\n",
       "      <td>131.379477</td>\n",
       "      <td>1971.020443</td>\n",
       "      <td>1472342400</td>\n",
       "    </tr>\n",
       "    <tr>\n",
       "      <th>3</th>\n",
       "      <td>3</td>\n",
       "      <td>h</td>\n",
       "      <td>850000</td>\n",
       "      <td>10.5</td>\n",
       "      <td>3034</td>\n",
       "      <td>1</td>\n",
       "      <td>1.0</td>\n",
       "      <td>593</td>\n",
       "      <td>118.000000</td>\n",
       "      <td>1970.000000</td>\n",
       "      <td>1457481600</td>\n",
       "    </tr>\n",
       "    <tr>\n",
       "      <th>4</th>\n",
       "      <td>3</td>\n",
       "      <td>h</td>\n",
       "      <td>810000</td>\n",
       "      <td>38.0</td>\n",
       "      <td>3199</td>\n",
       "      <td>1</td>\n",
       "      <td>2.0</td>\n",
       "      <td>835</td>\n",
       "      <td>118.000000</td>\n",
       "      <td>1960.000000</td>\n",
       "      <td>1502064000</td>\n",
       "    </tr>\n",
       "  </tbody>\n",
       "</table>\n",
       "</div>"
      ],
      "text/plain": [
       "   Rooms Type    Price  Distance  Postcode  Bathroom  Car  Landsize  \\\n",
       "0      2    t   790000      11.2      3046         2  1.0       208   \n",
       "1      3    h  1355000       8.8      3072         1  2.0       916   \n",
       "2      5    h  2810000       6.3      3143         2  2.0       617   \n",
       "3      3    h   850000      10.5      3034         1  1.0       593   \n",
       "4      3    h   810000      38.0      3199         1  2.0       835   \n",
       "\n",
       "   BuildingArea    YearBuilt    unixtime  \n",
       "0    127.000000  2010.000000  1497657600  \n",
       "1    131.379477  1971.020443  1476489600  \n",
       "2    131.379477  1971.020443  1472342400  \n",
       "3    118.000000  1970.000000  1457481600  \n",
       "4    118.000000  1960.000000  1502064000  "
      ]
     },
     "execution_count": 68,
     "metadata": {},
     "output_type": "execute_result"
    }
   ],
   "source": [
    "# Imputation - must use dictionary from above!  \n",
    "df_test['Car'].fillna(dict_imputation['Car'], inplace = True)\n",
    "df_test['BuildingArea'].fillna(dict_imputation['BuildingArea'], inplace = True)\n",
    "df_test['YearBuilt'].fillna(dict_imputation['YearBuilt'], inplace = True)\n",
    "\n",
    "df_test.head()"
   ]
  },
  {
   "cell_type": "code",
   "execution_count": 69,
   "metadata": {},
   "outputs": [],
   "source": [
    "# get the test types\n",
    "ttypes = df_test['Type'].copy()\n",
    "df_test.drop(columns = ['Type'], inplace = True)"
   ]
  },
  {
   "cell_type": "code",
   "execution_count": 70,
   "metadata": {},
   "outputs": [
    {
     "data": {
      "text/html": [
       "<div>\n",
       "<style scoped>\n",
       "    .dataframe tbody tr th:only-of-type {\n",
       "        vertical-align: middle;\n",
       "    }\n",
       "\n",
       "    .dataframe tbody tr th {\n",
       "        vertical-align: top;\n",
       "    }\n",
       "\n",
       "    .dataframe thead th {\n",
       "        text-align: right;\n",
       "    }\n",
       "</style>\n",
       "<table border=\"1\" class=\"dataframe\">\n",
       "  <thead>\n",
       "    <tr style=\"text-align: right;\">\n",
       "      <th></th>\n",
       "      <th>Rooms</th>\n",
       "      <th>Price</th>\n",
       "      <th>Distance</th>\n",
       "      <th>Postcode</th>\n",
       "      <th>Bathroom</th>\n",
       "      <th>Car</th>\n",
       "      <th>Landsize</th>\n",
       "      <th>BuildingArea</th>\n",
       "      <th>YearBuilt</th>\n",
       "      <th>unixtime</th>\n",
       "    </tr>\n",
       "  </thead>\n",
       "  <tbody>\n",
       "    <tr>\n",
       "      <th>0</th>\n",
       "      <td>0.166667</td>\n",
       "      <td>0.120582</td>\n",
       "      <td>0.225322</td>\n",
       "      <td>0.056790</td>\n",
       "      <td>0.4</td>\n",
       "      <td>0.125</td>\n",
       "      <td>0.005024</td>\n",
       "      <td>0.035694</td>\n",
       "      <td>0.963855</td>\n",
       "      <td>0.727700</td>\n",
       "    </tr>\n",
       "    <tr>\n",
       "      <th>1</th>\n",
       "      <td>0.333333</td>\n",
       "      <td>0.238046</td>\n",
       "      <td>0.173820</td>\n",
       "      <td>0.088889</td>\n",
       "      <td>0.2</td>\n",
       "      <td>0.250</td>\n",
       "      <td>0.022126</td>\n",
       "      <td>0.036925</td>\n",
       "      <td>0.729039</td>\n",
       "      <td>0.344288</td>\n",
       "    </tr>\n",
       "    <tr>\n",
       "      <th>2</th>\n",
       "      <td>0.666667</td>\n",
       "      <td>0.540541</td>\n",
       "      <td>0.120172</td>\n",
       "      <td>0.176543</td>\n",
       "      <td>0.4</td>\n",
       "      <td>0.250</td>\n",
       "      <td>0.014903</td>\n",
       "      <td>0.036925</td>\n",
       "      <td>0.729039</td>\n",
       "      <td>0.269171</td>\n",
       "    </tr>\n",
       "    <tr>\n",
       "      <th>3</th>\n",
       "      <td>0.333333</td>\n",
       "      <td>0.133056</td>\n",
       "      <td>0.210300</td>\n",
       "      <td>0.041975</td>\n",
       "      <td>0.2</td>\n",
       "      <td>0.125</td>\n",
       "      <td>0.014324</td>\n",
       "      <td>0.033165</td>\n",
       "      <td>0.722892</td>\n",
       "      <td>0.000000</td>\n",
       "    </tr>\n",
       "    <tr>\n",
       "      <th>4</th>\n",
       "      <td>0.333333</td>\n",
       "      <td>0.124740</td>\n",
       "      <td>0.800429</td>\n",
       "      <td>0.245679</td>\n",
       "      <td>0.2</td>\n",
       "      <td>0.250</td>\n",
       "      <td>0.020169</td>\n",
       "      <td>0.033165</td>\n",
       "      <td>0.662651</td>\n",
       "      <td>0.807512</td>\n",
       "    </tr>\n",
       "  </tbody>\n",
       "</table>\n",
       "</div>"
      ],
      "text/plain": [
       "      Rooms     Price  Distance  Postcode  Bathroom    Car  Landsize  \\\n",
       "0  0.166667  0.120582  0.225322  0.056790       0.4  0.125  0.005024   \n",
       "1  0.333333  0.238046  0.173820  0.088889       0.2  0.250  0.022126   \n",
       "2  0.666667  0.540541  0.120172  0.176543       0.4  0.250  0.014903   \n",
       "3  0.333333  0.133056  0.210300  0.041975       0.2  0.125  0.014324   \n",
       "4  0.333333  0.124740  0.800429  0.245679       0.2  0.250  0.020169   \n",
       "\n",
       "   BuildingArea  YearBuilt  unixtime  \n",
       "0      0.035694   0.963855  0.727700  \n",
       "1      0.036925   0.729039  0.344288  \n",
       "2      0.036925   0.729039  0.269171  \n",
       "3      0.033165   0.722892  0.000000  \n",
       "4      0.033165   0.662651  0.807512  "
      ]
     },
     "execution_count": 70,
     "metadata": {},
     "output_type": "execute_result"
    }
   ],
   "source": [
    "# Scale - must use dictionary from above!\n",
    "_, df_test = normalize(df_test, dict_normalize)\n",
    "df_test.head()"
   ]
  },
  {
   "cell_type": "markdown",
   "metadata": {},
   "source": [
    "## Q1.5 Write the kNN classifier function\n",
    "Your function `knn_class`, should take four parameters, the training dataframe, the hyper parameter `k`, the name of the target column, and a single observation row (a series generated from iterrows) of the test dataframe.  It should return a single target classification. To find the distance between the single observation and the training data frame you may use the [L2 norm](https://numpy.org/doc/stable/reference/generated/numpy.linalg.norm.html)"
   ]
  },
  {
   "cell_type": "code",
   "execution_count": 71,
   "metadata": {},
   "outputs": [
    {
     "data": {
      "text/plain": [
       "'t'"
      ]
     },
     "execution_count": 71,
     "metadata": {},
     "output_type": "execute_result"
    }
   ],
   "source": [
    "def knn_class(df_train, k, target_col, observation ):\n",
    "    distances = None\n",
    "    distances = pd.DataFrame(columns = ['Distances', 'Index']) \n",
    "    index = 0;\n",
    "    for row in df_train.iterrows():\n",
    "        newrow = {'Distances' : np.linalg.norm(row[1] - observation), 'Index' : row[0]}\n",
    "        distances = distances.append(newrow, ignore_index = True)\n",
    "    \n",
    "    # sort, select k closest, returns most voted\n",
    "    distances.sort_values(by = ['Distances'], inplace = True)\n",
    "    cn = target_col.iloc[distances.head(k)['Index']]\n",
    "    return cn.value_counts().idxmax()\n",
    "\n",
    "knn_class(df_melb, 25, types, df_test.loc[0])"
   ]
  },
  {
   "cell_type": "markdown",
   "metadata": {},
   "source": [
    "## Q1.6 Compute the accuracy using different k values\n",
    "For each value of $k$ in the set $\\{1,3,13,25,50,100\\}$ calculate the class prediction for each observation in the test set, and the overall accuracy of the classifier.  Plot the accuracy as a function of $k$.\n",
    "\n",
    "Please note: this can be slow, and took the 13\" Macbook I used about 5 mins to complete.  When testing your code, you might want to use a smaller test/train data set until you are sure your code is working, and then run this cell using the entire dataframe/series.  "
   ]
  },
  {
   "cell_type": "code",
   "execution_count": 72,
   "metadata": {},
   "outputs": [],
   "source": [
    "poss_k = [1,3,13,25,50,100]"
   ]
  },
  {
   "cell_type": "code",
   "execution_count": 78,
   "metadata": {},
   "outputs": [
    {
     "name": "stderr",
     "output_type": "stream",
     "text": [
      "100%|██████████| 122/122 [02:45<00:00,  1.35s/it]\n",
      "100%|██████████| 122/122 [02:45<00:00,  1.36s/it]\n",
      "100%|██████████| 122/122 [02:41<00:00,  1.33s/it]\n",
      "100%|██████████| 122/122 [02:36<00:00,  1.28s/it]\n",
      "100%|██████████| 122/122 [02:18<00:00,  1.13s/it]\n",
      "100%|██████████| 122/122 [02:33<00:00,  1.26s/it]\n"
     ]
    }
   ],
   "source": [
    "accuracy = []\n",
    "\n",
    "# calculate accuracy for eack k\n",
    "for k in poss_k:\n",
    "    results = []\n",
    "    \n",
    "    # create numpy array of predictions, then count matches between truth.\n",
    "    for idx, rows in tqdm(df_test.iterrows(), total = df_test.shape[0]):\n",
    "        results.append(knn_class(df_melb, k, types, rows))\n",
    "    accuracy.append(np.count_nonzero(ttypes.to_numpy() == np.asarray(results)) / len(results))\n",
    "\n"
   ]
  },
  {
   "cell_type": "markdown",
   "metadata": {},
   "source": [
    "## Section 2 - Naive Bayes "
   ]
  },
  {
   "cell_type": "code",
   "execution_count": 88,
   "metadata": {},
   "outputs": [
    {
     "data": {
      "image/png": "[encoded data removed]",
      "text/plain": [
       "<Figure size 432x288 with 1 Axes>"
      ]
     },
     "metadata": {
      "needs_background": "light"
     },
     "output_type": "display_data"
    }
   ],
   "source": [
    "plt.plot(poss_k, a)\n",
    "plt.xlabel(\"Hyperparameter: K\")\n",
    "plt.ylabel(\"Accuracy\")\n",
    "plt.title(\"Accuracy on Test Set for Varied K\")\n",
    "plt.show()"
   ]
  },
  {
   "cell_type": "markdown",
   "metadata": {},
   "source": [
    "### Q2.1 Theoretical exercise on Probability Review - Joint Probability of dependent events\n",
    "In my neighborhood in Austin, I took a survey and found that 42% of the houses have at least one dog, and 25% of the houses that own a dog also own a cat.  In addition, I found that 31% of families own a cat.\n",
    "\n",
    "Answer the following by typing out your answers below using markdown cells.  Define all of your terms and show your work. When you define your terms you should write out the meaning of each variable. (Note markdown supports LaTex so, you can make fractions like this: `$\\frac{a}{b}$` = $\\frac{a}{b}$)"
   ]
  },
  {
   "cell_type": "markdown",
   "metadata": {},
   "source": [
    "### Q2.1a\n",
    "the probability that a randomly selected house in my neighborhood owns a cat and a dog"
   ]
  },
  {
   "cell_type": "markdown",
   "metadata": {},
   "source": [
    "$$P(OwnsDog) = 0.42$$\n",
    "$$P(OwnsCat | OwnsDog) = 0.25$$\n",
    "$$P(OwnsCat) = 0.31$$ \\\n",
    "\\\n",
    "$$P(Dog\\space and \\space Cat) = P(OwnsDog)*P(OwnsCat | OwnsDog)$$\n",
    "$$ = 0.42 * 0.25 = 0.105 $$"
   ]
  },
  {
   "cell_type": "markdown",
   "metadata": {},
   "source": [
    "### Q2.1b\n",
    "the conditional probability that a randomly selected family owns a dog given that it owns a cat? "
   ]
  },
  {
   "cell_type": "markdown",
   "metadata": {},
   "source": [
    "$$P(Owns Dog | Owns Cat)$$ = $\\frac{P(Owns Cat | Owns Dog)*P(Owns Dog)}{P(Owns Cat)}$ = $\\frac{0.25 * 0.42}{0.31} = 0.34$"
   ]
  },
  {
   "cell_type": "markdown",
   "metadata": {},
   "source": [
    "### Q2.2 Theoretical exercise on Probability Review - Marginals and  Bayes Theorem \n",
    "In Austin, 45% of registered voters are Democrats, 37% of registered voters are Republicans, and the remaining 18% are Independents. In the last election 35% of the Democrats, 62% of the Republications, and 58% of the Independents voted. A voter is chosen at random.  \n",
    "\n",
    "Answer the following by typing out your answers below using markdown cells.  Define all of your terms and show your work. When you define your terms you should write out the meaning of each variable. (Note markdown supports LaTex so, you can make fractions like this: `$\\frac{a}{b}$` = $\\frac{a}{b}$)"
   ]
  },
  {
   "cell_type": "markdown",
   "metadata": {},
   "source": [
    "### Q2.2a\n",
    "What fraction of registered voters voted in the election? "
   ]
  },
  {
   "cell_type": "markdown",
   "metadata": {},
   "source": [
    "$$P(Voted|Demo) + P(Voted|Repub) + P(Voted|Indep) $$\n",
    "$$(0.45 * 0.35) + (0.37 * 0.67) + (0.18 * 0.58) = 0.5098$$"
   ]
  },
  {
   "cell_type": "markdown",
   "metadata": {},
   "source": [
    "### Q2.2b\n",
    "What is the probability that someone who voted is a Republican? "
   ]
  },
  {
   "cell_type": "markdown",
   "metadata": {},
   "source": [
    "$ P(Repub | Voted) = \\frac{P(Voted | Repub)*P(Repub)}{P(Voted)} = \\frac{0.62*0.37}{0.5098} = 0.45$"
   ]
  },
  {
   "cell_type": "markdown",
   "metadata": {},
   "source": [
    "## Q2.3 Loading in the housing data and calculating the prior probabilities\n",
    "Let us load in the train set again fresh, since Naive Bays and kNN have much different requirements. Load the prior probabilities for each possible 'Type' in a dictionary, `dict_priors`, where the key is the possible 'Type' values and the value is the prior probabilities. Show the dictionary."
   ]
  },
  {
   "cell_type": "code",
   "execution_count": 101,
   "metadata": {},
   "outputs": [],
   "source": [
    "# reload train\n",
    "df_melb = pd.read_csv('melb_data_train.csv')"
   ]
  },
  {
   "cell_type": "code",
   "execution_count": 102,
   "metadata": {},
   "outputs": [],
   "source": [
    "dict_priors = (df_melb['Type'].value_counts() / df_melb.shape[0]).to_dict()"
   ]
  },
  {
   "cell_type": "code",
   "execution_count": 103,
   "metadata": {},
   "outputs": [
    {
     "data": {
      "text/plain": [
       "{'h': 0.4512820512820513, 'u': 0.4, 't': 0.14871794871794872}"
      ]
     },
     "execution_count": 103,
     "metadata": {},
     "output_type": "execute_result"
    }
   ],
   "source": [
    "# Show the dictionary\n",
    "dict_priors"
   ]
  },
  {
   "cell_type": "markdown",
   "metadata": {},
   "source": [
    "## Q2.4 Create a model for the distribution of all of the continuous attributes\n",
    "First, let us just drop the 'Date' column.  Now, for each class, and for each attribute calculate the sample mean and sample standard deviation.  You should store the model in a nested dictionary, `dict_nb_model`, such that `dict_nb_model['h']['Rooms']` is a tuple containing the mean and standard deviation for the target Type 'h' and the attribute 'Rooms'.  Show the model for target type 'u'.   "
   ]
  },
  {
   "cell_type": "code",
   "execution_count": 104,
   "metadata": {},
   "outputs": [],
   "source": [
    "# drop dates, and NaNs\n",
    "df_melb.drop(columns=[\"Date\"], inplace=True)\n",
    "df_melb.dropna(inplace=True)\n",
    "\n",
    "c_types = ['h', 't', 'u']\n",
    "dict_nb_model = {}\n",
    "for c_t in c_types:\n",
    "    df_temp = df_melb.loc[df_melb['Type'] == c_t]\n",
    "    t_dict = {}\n",
    "    for (colN, col) in df_temp.iteritems():\n",
    "        if (colN != 'Type'):\n",
    "            t = (col.mean(), col.std())\n",
    "            t_dict.update({colN: t})\n",
    "    dict_nb_model.update({c_t : t_dict})"
   ]
  },
  {
   "cell_type": "code",
   "execution_count": 105,
   "metadata": {},
   "outputs": [
    {
     "data": {
      "text/plain": [
       "{'Rooms': (2.01025641025641, 0.5919541601588044),\n",
       " 'Price': (616878.4615384615, 205784.81541492048),\n",
       " 'Distance': (8.679487179487179, 5.005418686833789),\n",
       " 'Postcode': (3115.9692307692308, 59.656742145593675),\n",
       " 'Bathroom': (1.1897435897435897, 0.40600827260049394),\n",
       " 'Car': (1.1435897435897435, 0.6091209111747407),\n",
       " 'Landsize': (296.8820512820513, 587.751123285703),\n",
       " 'BuildingArea': (85.29435897435899, 42.916531539198374),\n",
       " 'YearBuilt': (1975.8564102564103, 25.056017600072682)}"
      ]
     },
     "execution_count": 105,
     "metadata": {},
     "output_type": "execute_result"
    }
   ],
   "source": [
    "# Show the model for target type 'u'\n",
    "dict_nb_model['u']"
   ]
  },
  {
   "cell_type": "markdown",
   "metadata": {},
   "source": [
    "## Q2.5 Write a function that calculates the probability of a Gaussian\n",
    "Given the mean ($\\mu$), standard deviation ($\\sigma$), and a observed point, `x`, return the probability.  \n",
    "Use the formula $p(x) = \\frac{1}{\\sigma \\sqrt{2 \\pi}} e^{-\\frac{1}{2}(\\frac{x-\\mu}{\\sigma})^2}$ ([wiki](https://en.wikipedia.org/wiki/Normal_distribution)).  You should use [numpy's exp](https://numpy.org/doc/stable/reference/generated/numpy.exp.html) function in your solution. "
   ]
  },
  {
   "cell_type": "code",
   "execution_count": 106,
   "metadata": {},
   "outputs": [],
   "source": [
    "def get_p( mu, sigma, x):\n",
    "    r = (-0.5) * np.square((x - mu) / sigma)\n",
    "    r = np.exp(r)\n",
    "    r *= 1 / (sigma * np.sqrt(2 * np.pi))\n",
    "    return r"
   ]
  },
  {
   "cell_type": "markdown",
   "metadata": {},
   "source": [
    "## Q2.6 Write the Naive Bayes classifier function\n",
    "The Naive Bayes classifier function, `nb_class`, should take as a parameter the prior probability dictionary. `dict_priors`, the dictionary containing all of the gaussian distribution information for each attribute, `dict_nb_model`, and a single observation row (a series generated from iterrows) of the test dataframe. It should return a single target classification. For this problem, all of our attributes are represented as Gaussians, so we don't worry about categorical data. Make sure to skip attributes that do not have a value in the observation. "
   ]
  },
  {
   "cell_type": "code",
   "execution_count": 111,
   "metadata": {},
   "outputs": [],
   "source": [
    "def nb_class( dict_priors, dict_nb_model, observation):  \n",
    "    class_con_p = {}\n",
    "    # for each class type (h,t,u)\n",
    "    for class_t in dict_priors.keys():\n",
    "        gauss_prod = 1\n",
    "        # calculate the gaussian product\n",
    "        for colN in dict_nb_model[class_t].keys():\n",
    "            t = dict_nb_model[class_t][colN]\n",
    "            gauss_prod *= get_p(t[0], t[1], observation[colN])\n",
    "        \n",
    "        # store product with priors\n",
    "        class_con_p.update({class_t: gauss_prod * dict_priors[class_t]})\n",
    "        \n",
    "    return max(class_con_p, key=class_con_p.get)"
   ]
  },
  {
   "cell_type": "markdown",
   "metadata": {},
   "source": [
    "## Q2.7 Calculate the accuracy using Naive Bayes classifier function on the test set\n",
    "Load the test set from file, classify each row using your `nb_class`, and then show the accuracy. "
   ]
  },
  {
   "cell_type": "code",
   "execution_count": 108,
   "metadata": {},
   "outputs": [],
   "source": [
    "df_test = pd.read_csv('melb_data_test.csv')\n",
    "df_test.dropna(inplace=True)\n",
    "ttypes = df_test['Type']\n",
    "df_test.drop(columns=['Type'], inplace=True)"
   ]
  },
  {
   "cell_type": "code",
   "execution_count": 109,
   "metadata": {},
   "outputs": [
    {
     "name": "stderr",
     "output_type": "stream",
     "text": [
      "100%|██████████| 52/52 [00:00<00:00, 1678.10it/s]\n",
      "100%|██████████| 479/479 [00:00<00:00, 2429.55it/s]\n"
     ]
    }
   ],
   "source": [
    "# calculate the test accuracy\n",
    "results = []\n",
    "for idx, rows in tqdm(df_test.iterrows(), total = df_test.shape[0]):\n",
    "    results.append(nb_class(dict_priors, dict_nb_model,rows))\n",
    "acc_test = np.count_nonzero(ttypes.to_numpy() == np.asarray(results)) / len(results)\n",
    "\n",
    "\n",
    "# create the training set again (for safety)\n",
    "types = df_melb['Type']\n",
    "df_melb.drop(columns=['Type'], inplace=True)\n",
    "\n",
    "# calculate the training accuracy\n",
    "results = []\n",
    "for idx, rows in tqdm(df_melb.iterrows(), total = df_melb.shape[0]):\n",
    "    results.append(nb_class(dict_priors, dict_nb_model,rows))\n",
    "acc_train  = np.count_nonzero(types.to_numpy() == np.asarray(results)) / len(results)\n",
    "\n"
   ]
  },
  {
   "cell_type": "code",
   "execution_count": 110,
   "metadata": {},
   "outputs": [
    {
     "name": "stdout",
     "output_type": "stream",
     "text": [
      "Train: 0.7766179540709812\n",
      "Test: 0.6730769230769231\n"
     ]
    }
   ],
   "source": [
    "# Show the accuracy \n",
    "print(\"Train: \" + str(acc_train))\n",
    "print(\"Test: \" + str(acc_test))"
   ]
  },
  {
   "cell_type": "code",
   "execution_count": null,
   "metadata": {},
   "outputs": [],
   "source": []
  }
 ],
 "metadata": {
  "kernelspec": {
   "display_name": "Python 3",
   "language": "python",
   "name": "python3"
  },
  "language_info": {
   "codemirror_mode": {
    "name": "ipython",
    "version": 3
   },
   "file_extension": ".py",
   "mimetype": "text/x-python",
   "name": "python",
   "nbconvert_exporter": "python",
   "pygments_lexer": "ipython3",
   "version": "3.7.4"
  }
 },
 "nbformat": 4,
 "nbformat_minor": 4
}
